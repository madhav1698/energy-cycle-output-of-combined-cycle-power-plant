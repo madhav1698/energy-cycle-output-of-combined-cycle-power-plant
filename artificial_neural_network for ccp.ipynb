{
 "cells": [
  {
   "cell_type": "markdown",
   "metadata": {
    "colab_type": "text",
    "id": "3cbb7fRy-eyr"
   },
   "source": [
    "# Artificial Neural Network"
   ]
  },
  {
   "cell_type": "markdown",
   "metadata": {
    "colab_type": "text",
    "id": "8sNDnxE2-pwE"
   },
   "source": [
    "### Importing the libraries"
   ]
  },
  {
   "cell_type": "code",
   "execution_count": 1,
   "metadata": {
    "colab": {},
    "colab_type": "code",
    "id": "lxChR1Rk-umf"
   },
   "outputs": [],
   "source": [
    "import numpy as np\n",
    "import pandas as pd\n",
    "import tensorflow as tf"
   ]
  },
  {
   "cell_type": "code",
   "execution_count": null,
   "metadata": {
    "colab": {
     "base_uri": "https://localhost:8080/",
     "height": 34
    },
    "colab_type": "code",
    "id": "uBTqR3nacj0e",
    "outputId": "4c0bd183-e424-429a-9fba-ceb841c06888"
   },
   "outputs": [],
   "source": []
  },
  {
   "cell_type": "markdown",
   "metadata": {
    "colab_type": "text",
    "id": "AG3FQEch-yuA"
   },
   "source": [
    "## Part 1 - Data Preprocessing"
   ]
  },
  {
   "cell_type": "markdown",
   "metadata": {
    "colab_type": "text",
    "id": "-4zq8Mza_D9O"
   },
   "source": [
    "### Importing the dataset"
   ]
  },
  {
   "cell_type": "code",
   "execution_count": 2,
   "metadata": {
    "colab": {},
    "colab_type": "code",
    "id": "B9CV13Co_HHM"
   },
   "outputs": [],
   "source": [
    "dataset = pd.read_excel('dataset_ccp.xlsx')\n",
    "X = dataset.iloc[:, :-1].values\n",
    "y = dataset.iloc[:, -1].values"
   ]
  },
  {
   "cell_type": "markdown",
   "metadata": {
    "colab_type": "text",
    "id": "VC6omXel_Up0"
   },
   "source": [
    "### Splitting the dataset into the Training set and Test set"
   ]
  },
  {
   "cell_type": "code",
   "execution_count": 3,
   "metadata": {
    "colab": {},
    "colab_type": "code",
    "id": "L5edeb2r_agx"
   },
   "outputs": [],
   "source": [
    "from sklearn.model_selection import train_test_split\n",
    "X_train, X_test, y_train, y_test = train_test_split(X, y, test_size = 0.2, random_state = 0)"
   ]
  },
  {
   "cell_type": "markdown",
   "metadata": {
    "colab_type": "text",
    "id": "_mSLlAT9_eyI"
   },
   "source": [
    "## Part 2 - Building the ANN"
   ]
  },
  {
   "cell_type": "markdown",
   "metadata": {
    "colab_type": "text",
    "id": "CsBULd_f_wLY"
   },
   "source": [
    "### Initializing the ANN"
   ]
  },
  {
   "cell_type": "code",
   "execution_count": 4,
   "metadata": {
    "colab": {},
    "colab_type": "code",
    "id": "J6Hd97Ls__Nz"
   },
   "outputs": [],
   "source": [
    "ann = tf.keras.models.Sequential()"
   ]
  },
  {
   "cell_type": "markdown",
   "metadata": {
    "colab_type": "text",
    "id": "iitAFJS_ABUn"
   },
   "source": [
    "### Adding the input layer and the first hidden layer"
   ]
  },
  {
   "cell_type": "code",
   "execution_count": 5,
   "metadata": {
    "colab": {},
    "colab_type": "code",
    "id": "ksO_Vv40AHix"
   },
   "outputs": [],
   "source": [
    "ann.add(tf.keras.layers.Dense(units=6, activation='relu'))"
   ]
  },
  {
   "cell_type": "markdown",
   "metadata": {
    "colab_type": "text",
    "id": "-lb4kK_wAKbs"
   },
   "source": [
    "### Adding the second hidden layer"
   ]
  },
  {
   "cell_type": "code",
   "execution_count": 6,
   "metadata": {
    "colab": {},
    "colab_type": "code",
    "id": "c2357OqEAQOQ"
   },
   "outputs": [],
   "source": [
    "ann.add(tf.keras.layers.Dense(units=6, activation='relu'))"
   ]
  },
  {
   "cell_type": "markdown",
   "metadata": {
    "colab_type": "text",
    "id": "jwMOmKb3AdBY"
   },
   "source": [
    "### Adding the output layer"
   ]
  },
  {
   "cell_type": "code",
   "execution_count": 7,
   "metadata": {
    "colab": {},
    "colab_type": "code",
    "id": "YFATpzsUAkLL"
   },
   "outputs": [],
   "source": [
    "ann.add(tf.keras.layers.Dense(units=1))"
   ]
  },
  {
   "cell_type": "markdown",
   "metadata": {
    "colab_type": "text",
    "id": "fq7e4fF6A1yy"
   },
   "source": [
    "## Part 3 - Training the ANN"
   ]
  },
  {
   "cell_type": "markdown",
   "metadata": {
    "colab_type": "text",
    "id": "qDeylAs2An25"
   },
   "source": [
    "### Compiling the ANN"
   ]
  },
  {
   "cell_type": "code",
   "execution_count": 8,
   "metadata": {
    "colab": {},
    "colab_type": "code",
    "id": "pesgbWlCAtB4"
   },
   "outputs": [],
   "source": [
    "ann.compile(optimizer = 'adam', loss = 'mean_squared_error')"
   ]
  },
  {
   "cell_type": "markdown",
   "metadata": {
    "colab_type": "text",
    "id": "YjVuiybYOo7r"
   },
   "source": [
    "### Training the ANN model on the Training set"
   ]
  },
  {
   "cell_type": "code",
   "execution_count": 9,
   "metadata": {
    "colab": {
     "base_uri": "https://localhost:8080/",
     "height": 1000
    },
    "colab_type": "code",
    "id": "c_vV-tiiA5zn",
    "outputId": "4a2b6ee6-ed75-4698-9069-b250e613803f"
   },
   "outputs": [
    {
     "name": "stdout",
     "output_type": "stream",
     "text": [
      "Epoch 1/100\n",
      "240/240 [==============================] - 1s 1ms/step - loss: 133518.4531\n",
      "Epoch 2/100\n",
      "240/240 [==============================] - 0s 2ms/step - loss: 1396.5704\n",
      "Epoch 3/100\n",
      "240/240 [==============================] - 0s 1ms/step - loss: 264.7954\n",
      "Epoch 4/100\n",
      "240/240 [==============================] - 0s 1ms/step - loss: 258.5382\n",
      "Epoch 5/100\n",
      "240/240 [==============================] - 0s 2ms/step - loss: 251.4899\n",
      "Epoch 6/100\n",
      "240/240 [==============================] - 0s 680us/step - loss: 243.2473\n",
      "Epoch 7/100\n",
      "240/240 [==============================] - 0s 848us/step - loss: 234.3577\n",
      "Epoch 8/100\n",
      "240/240 [==============================] - 0s 1ms/step - loss: 224.1832\n",
      "Epoch 9/100\n",
      "240/240 [==============================] - 0s 2ms/step - loss: 213.0037\n",
      "Epoch 10/100\n",
      "240/240 [==============================] - 0s 2ms/step - loss: 201.4516\n",
      "Epoch 11/100\n",
      "240/240 [==============================] - 0s 2ms/step - loss: 188.9621\n",
      "Epoch 12/100\n",
      "240/240 [==============================] - 0s 1ms/step - loss: 175.9043\n",
      "Epoch 13/100\n",
      "240/240 [==============================] - 0s 2ms/step - loss: 162.3669\n",
      "Epoch 14/100\n",
      "240/240 [==============================] - 0s 1ms/step - loss: 149.3588\n",
      "Epoch 15/100\n",
      "240/240 [==============================] - 0s 1ms/step - loss: 135.5517\n",
      "Epoch 16/100\n",
      "240/240 [==============================] - 0s 1ms/step - loss: 122.0541\n",
      "Epoch 17/100\n",
      "240/240 [==============================] - 0s 1ms/step - loss: 109.2096\n",
      "Epoch 18/100\n",
      "240/240 [==============================] - 0s 1ms/step - loss: 97.3207\n",
      "Epoch 19/100\n",
      "240/240 [==============================] - 0s 2ms/step - loss: 86.6917\n",
      "Epoch 20/100\n",
      "240/240 [==============================] - 0s 2ms/step - loss: 76.9955\n",
      "Epoch 21/100\n",
      "240/240 [==============================] - 0s 2ms/step - loss: 68.0055\n",
      "Epoch 22/100\n",
      "240/240 [==============================] - 0s 2ms/step - loss: 60.5754\n",
      "Epoch 23/100\n",
      "240/240 [==============================] - 0s 2ms/step - loss: 54.4395\n",
      "Epoch 24/100\n",
      "240/240 [==============================] - 0s 2ms/step - loss: 49.6482\n",
      "Epoch 25/100\n",
      "240/240 [==============================] - 0s 780us/step - loss: 45.3456\n",
      "Epoch 26/100\n",
      "240/240 [==============================] - 0s 1ms/step - loss: 42.3942\n",
      "Epoch 27/100\n",
      "240/240 [==============================] - 0s 2ms/step - loss: 39.6148\n",
      "Epoch 28/100\n",
      "240/240 [==============================] - 0s 2ms/step - loss: 37.5647\n",
      "Epoch 29/100\n",
      "240/240 [==============================] - 0s 2ms/step - loss: 36.5815\n",
      "Epoch 30/100\n",
      "240/240 [==============================] - 0s 2ms/step - loss: 34.8302\n",
      "Epoch 31/100\n",
      "240/240 [==============================] - 0s 2ms/step - loss: 33.7662\n",
      "Epoch 32/100\n",
      "240/240 [==============================] - 0s 2ms/step - loss: 32.6966\n",
      "Epoch 33/100\n",
      "240/240 [==============================] - 0s 1ms/step - loss: 32.0584\n",
      "Epoch 34/100\n",
      "240/240 [==============================] - 0s 1ms/step - loss: 31.6953\n",
      "Epoch 35/100\n",
      "240/240 [==============================] - 0s 1ms/step - loss: 31.2197\n",
      "Epoch 36/100\n",
      "240/240 [==============================] - 0s 1ms/step - loss: 30.4335\n",
      "Epoch 37/100\n",
      "240/240 [==============================] - 0s 1ms/step - loss: 30.1620\n",
      "Epoch 38/100\n",
      "240/240 [==============================] - 0s 1ms/step - loss: 30.2160\n",
      "Epoch 39/100\n",
      "240/240 [==============================] - 0s 1ms/step - loss: 29.5082\n",
      "Epoch 40/100\n",
      "240/240 [==============================] - 0s 1ms/step - loss: 29.9691\n",
      "Epoch 41/100\n",
      "240/240 [==============================] - 0s 1ms/step - loss: 29.0761\n",
      "Epoch 42/100\n",
      "240/240 [==============================] - 0s 1ms/step - loss: 29.4161\n",
      "Epoch 43/100\n",
      "240/240 [==============================] - 0s 1ms/step - loss: 29.0185\n",
      "Epoch 44/100\n",
      "240/240 [==============================] - 0s 1ms/step - loss: 28.7660\n",
      "Epoch 45/100\n",
      "240/240 [==============================] - 0s 1ms/step - loss: 28.0878\n",
      "Epoch 46/100\n",
      "240/240 [==============================] - 0s 1ms/step - loss: 28.6901\n",
      "Epoch 47/100\n",
      "240/240 [==============================] - 0s 1ms/step - loss: 27.9135\n",
      "Epoch 48/100\n",
      "240/240 [==============================] - 0s 1ms/step - loss: 27.9369\n",
      "Epoch 49/100\n",
      "240/240 [==============================] - 0s 1ms/step - loss: 27.6909\n",
      "Epoch 50/100\n",
      "240/240 [==============================] - 0s 1ms/step - loss: 27.7400\n",
      "Epoch 51/100\n",
      "240/240 [==============================] - 0s 2ms/step - loss: 27.8915\n",
      "Epoch 52/100\n",
      "240/240 [==============================] - 0s 1ms/step - loss: 27.7138\n",
      "Epoch 53/100\n",
      "240/240 [==============================] - 0s 1ms/step - loss: 27.3743\n",
      "Epoch 54/100\n",
      "240/240 [==============================] - 0s 1ms/step - loss: 27.2782\n",
      "Epoch 55/100\n",
      "240/240 [==============================] - 0s 1ms/step - loss: 27.1708\n",
      "Epoch 56/100\n",
      "240/240 [==============================] - 0s 1ms/step - loss: 27.3226\n",
      "Epoch 57/100\n",
      "240/240 [==============================] - 0s 1ms/step - loss: 27.4782\n",
      "Epoch 58/100\n",
      "240/240 [==============================] - 0s 1ms/step - loss: 27.7598\n",
      "Epoch 59/100\n",
      "240/240 [==============================] - 0s 1ms/step - loss: 26.6847\n",
      "Epoch 60/100\n",
      "240/240 [==============================] - 0s 1ms/step - loss: 27.4747\n",
      "Epoch 61/100\n",
      "240/240 [==============================] - 0s 1ms/step - loss: 27.0023\n",
      "Epoch 62/100\n",
      "240/240 [==============================] - 0s 2ms/step - loss: 26.9496\n",
      "Epoch 63/100\n",
      "240/240 [==============================] - 0s 1ms/step - loss: 27.2123\n",
      "Epoch 64/100\n",
      "240/240 [==============================] - 0s 1ms/step - loss: 27.1151\n",
      "Epoch 65/100\n",
      "240/240 [==============================] - 0s 2ms/step - loss: 26.9268\n",
      "Epoch 66/100\n",
      "240/240 [==============================] - 0s 2ms/step - loss: 26.6489\n",
      "Epoch 67/100\n",
      "240/240 [==============================] - 0s 2ms/step - loss: 27.1751\n",
      "Epoch 68/100\n",
      "240/240 [==============================] - 0s 2ms/step - loss: 26.9392\n",
      "Epoch 69/100\n",
      "240/240 [==============================] - 0s 1ms/step - loss: 26.7163\n",
      "Epoch 70/100\n",
      "240/240 [==============================] - 0s 1ms/step - loss: 26.7907\n",
      "Epoch 71/100\n",
      "240/240 [==============================] - 0s 2ms/step - loss: 27.0225\n",
      "Epoch 72/100\n",
      "240/240 [==============================] - 0s 2ms/step - loss: 27.3085\n",
      "Epoch 73/100\n",
      "240/240 [==============================] - 0s 1ms/step - loss: 27.1708\n",
      "Epoch 74/100\n",
      "240/240 [==============================] - 0s 1ms/step - loss: 26.9591\n",
      "Epoch 75/100\n",
      "240/240 [==============================] - 0s 1ms/step - loss: 26.4949\n",
      "Epoch 76/100\n",
      "240/240 [==============================] - 0s 1ms/step - loss: 27.2308\n",
      "Epoch 77/100\n",
      "240/240 [==============================] - 0s 1ms/step - loss: 26.4934\n",
      "Epoch 78/100\n",
      "240/240 [==============================] - 0s 1ms/step - loss: 26.9603\n",
      "Epoch 79/100\n",
      "240/240 [==============================] - 0s 1ms/step - loss: 26.4349\n",
      "Epoch 80/100\n",
      "240/240 [==============================] - 0s 1ms/step - loss: 26.5838\n",
      "Epoch 81/100\n",
      "240/240 [==============================] - 0s 1ms/step - loss: 26.6323\n",
      "Epoch 82/100\n",
      "240/240 [==============================] - 0s 1ms/step - loss: 26.5908\n",
      "Epoch 83/100\n",
      "240/240 [==============================] - 0s 1ms/step - loss: 26.8036\n",
      "Epoch 84/100\n",
      "240/240 [==============================] - 0s 2ms/step - loss: 26.5894\n",
      "Epoch 85/100\n",
      "240/240 [==============================] - 0s 1ms/step - loss: 26.6407\n",
      "Epoch 86/100\n",
      "240/240 [==============================] - 0s 731us/step - loss: 26.8105\n",
      "Epoch 87/100\n",
      "240/240 [==============================] - 0s 2ms/step - loss: 26.9322\n",
      "Epoch 88/100\n",
      "240/240 [==============================] - 0s 1ms/step - loss: 26.5067\n",
      "Epoch 89/100\n",
      "240/240 [==============================] - 0s 2ms/step - loss: 26.5114\n",
      "Epoch 90/100\n",
      "240/240 [==============================] - 0s 2ms/step - loss: 26.4227\n",
      "Epoch 91/100\n",
      "240/240 [==============================] - 0s 2ms/step - loss: 26.6752\n",
      "Epoch 92/100\n",
      "240/240 [==============================] - 0s 2ms/step - loss: 26.7606\n",
      "Epoch 93/100\n",
      "240/240 [==============================] - 0s 1ms/step - loss: 27.0270\n",
      "Epoch 94/100\n",
      "240/240 [==============================] - 0s 2ms/step - loss: 26.4685\n",
      "Epoch 95/100\n",
      "240/240 [==============================] - 0s 2ms/step - loss: 26.8521\n",
      "Epoch 96/100\n",
      "240/240 [==============================] - 0s 1ms/step - loss: 27.2339\n",
      "Epoch 97/100\n",
      "240/240 [==============================] - 0s 1ms/step - loss: 27.1114\n",
      "Epoch 98/100\n"
     ]
    },
    {
     "name": "stdout",
     "output_type": "stream",
     "text": [
      "240/240 [==============================] - 0s 1ms/step - loss: 26.4397\n",
      "Epoch 99/100\n",
      "240/240 [==============================] - 0s 1ms/step - loss: 26.7967\n",
      "Epoch 100/100\n",
      "240/240 [==============================] - 0s 2ms/step - loss: 26.4062\n"
     ]
    },
    {
     "data": {
      "text/plain": [
       "<tensorflow.python.keras.callbacks.History at 0x20c44aeaaf0>"
      ]
     },
     "execution_count": 9,
     "metadata": {},
     "output_type": "execute_result"
    }
   ],
   "source": [
    "ann.fit(X_train, y_train, batch_size = 32, epochs = 100)"
   ]
  },
  {
   "cell_type": "markdown",
   "metadata": {
    "colab_type": "text",
    "id": "0H0zKKNEBLD5"
   },
   "source": [
    "### Predicting the results of the Test set"
   ]
  },
  {
   "cell_type": "code",
   "execution_count": 10,
   "metadata": {
    "colab": {
     "base_uri": "https://localhost:8080/",
     "height": 134
    },
    "colab_type": "code",
    "id": "IA0yApEmBG1X",
    "outputId": "cb981e1f-9204-4a2a-fece-9d66a6919189"
   },
   "outputs": [
    {
     "name": "stdout",
     "output_type": "stream",
     "text": [
      "[[431.13 431.23]\n",
      " [462.27 460.01]\n",
      " [465.79 461.14]\n",
      " ...\n",
      " [472.96 473.26]\n",
      " [439.93 438.  ]\n",
      " [459.07 463.28]]\n"
     ]
    },
    {
     "data": {
      "text/plain": [
       "0.9108244797190964"
      ]
     },
     "execution_count": 10,
     "metadata": {},
     "output_type": "execute_result"
    }
   ],
   "source": [
    "y_pred = ann.predict(X_test)\n",
    "np.set_printoptions(precision=2)\n",
    "print(np.concatenate((y_pred.reshape(len(y_pred),1), y_test.reshape(len(y_test),1)),1))\n",
    "\n",
    "from sklearn.metrics import r2_score\n",
    "r2_score(y_pred,y_test)\n"
   ]
  },
  {
   "cell_type": "code",
   "execution_count": null,
   "metadata": {},
   "outputs": [],
   "source": []
  }
 ],
 "metadata": {
  "colab": {
   "collapsed_sections": [],
   "name": "Artificial Neural Network",
   "provenance": [],
   "toc_visible": true
  },
  "interpreter": {
   "hash": "2647ea34e536f865ab67ff9ddee7fd78773d956cec0cab53c79b32cd10da5d83"
  },
  "kernelspec": {
   "display_name": "Python 3",
   "language": "python",
   "name": "python3"
  },
  "language_info": {
   "codemirror_mode": {
    "name": "ipython",
    "version": 3
   },
   "file_extension": ".py",
   "mimetype": "text/x-python",
   "name": "python",
   "nbconvert_exporter": "python",
   "pygments_lexer": "ipython3",
   "version": "3.9.4"
  }
 },
 "nbformat": 4,
 "nbformat_minor": 2
}
