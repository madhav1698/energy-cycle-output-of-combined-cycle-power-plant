{
 "cells": [
  {
   "cell_type": "markdown",
   "metadata": {
    "colab_type": "text",
    "id": "3cbb7fRy-eyr"
   },
   "source": [
    "# Artificial Neural Network"
   ]
  },
  {
   "cell_type": "markdown",
   "metadata": {
    "colab_type": "text",
    "id": "8sNDnxE2-pwE"
   },
   "source": [
    "### Importing the libraries"
   ]
  },
  {
   "cell_type": "code",
   "execution_count": 24,
   "metadata": {
    "colab": {},
    "colab_type": "code",
    "id": "lxChR1Rk-umf"
   },
   "outputs": [],
   "source": [
    "import numpy as np\n",
    "import pandas as pd\n",
    "import tensorflow as tf"
   ]
  },
  {
   "cell_type": "code",
   "execution_count": 25,
   "metadata": {
    "colab": {
     "base_uri": "https://localhost:8080/",
     "height": 34
    },
    "colab_type": "code",
    "id": "uBTqR3nacj0e",
    "outputId": "4c0bd183-e424-429a-9fba-ceb841c06888"
   },
   "outputs": [
    {
     "data": {
      "text/plain": [
       "'2.5.0'"
      ]
     },
     "execution_count": 25,
     "metadata": {},
     "output_type": "execute_result"
    }
   ],
   "source": [
    "tf.__version__"
   ]
  },
  {
   "cell_type": "markdown",
   "metadata": {
    "colab_type": "text",
    "id": "AG3FQEch-yuA"
   },
   "source": [
    "## Part 1 - Data Preprocessing"
   ]
  },
  {
   "cell_type": "markdown",
   "metadata": {
    "colab_type": "text",
    "id": "-4zq8Mza_D9O"
   },
   "source": [
    "### Importing the dataset"
   ]
  },
  {
   "cell_type": "code",
   "execution_count": 26,
   "metadata": {
    "colab": {},
    "colab_type": "code",
    "id": "B9CV13Co_HHM"
   },
   "outputs": [],
   "source": [
    "dataset = pd.read_excel('dataset_ccp.xlsx')\n",
    "X = dataset.iloc[:, :-1].values\n",
    "y = dataset.iloc[:, -1].values"
   ]
  },
  {
   "cell_type": "markdown",
   "metadata": {
    "colab_type": "text",
    "id": "VC6omXel_Up0"
   },
   "source": [
    "### Splitting the dataset into the Training set and Test set"
   ]
  },
  {
   "cell_type": "code",
   "execution_count": 27,
   "metadata": {
    "colab": {},
    "colab_type": "code",
    "id": "L5edeb2r_agx"
   },
   "outputs": [],
   "source": [
    "from sklearn.model_selection import train_test_split\n",
    "X_train, X_test, y_train, y_test = train_test_split(X, y, test_size = 0.2, random_state = 0)"
   ]
  },
  {
   "cell_type": "markdown",
   "metadata": {
    "colab_type": "text",
    "id": "_mSLlAT9_eyI"
   },
   "source": [
    "## Part 2 - Building the ANN"
   ]
  },
  {
   "cell_type": "markdown",
   "metadata": {
    "colab_type": "text",
    "id": "CsBULd_f_wLY"
   },
   "source": [
    "### Initializing the ANN"
   ]
  },
  {
   "cell_type": "code",
   "execution_count": 28,
   "metadata": {
    "colab": {},
    "colab_type": "code",
    "id": "J6Hd97Ls__Nz"
   },
   "outputs": [],
   "source": [
    "ann = tf.keras.models.Sequential()"
   ]
  },
  {
   "cell_type": "markdown",
   "metadata": {
    "colab_type": "text",
    "id": "iitAFJS_ABUn"
   },
   "source": [
    "### Adding the input layer and the first hidden layer"
   ]
  },
  {
   "cell_type": "code",
   "execution_count": 29,
   "metadata": {
    "colab": {},
    "colab_type": "code",
    "id": "ksO_Vv40AHix"
   },
   "outputs": [],
   "source": [
    "ann.add(tf.keras.layers.Dense(units=6, activation='relu'))"
   ]
  },
  {
   "cell_type": "markdown",
   "metadata": {
    "colab_type": "text",
    "id": "-lb4kK_wAKbs"
   },
   "source": [
    "### Adding the second hidden layer"
   ]
  },
  {
   "cell_type": "code",
   "execution_count": 30,
   "metadata": {
    "colab": {},
    "colab_type": "code",
    "id": "c2357OqEAQOQ"
   },
   "outputs": [],
   "source": [
    "ann.add(tf.keras.layers.Dense(units=6, activation='relu'))"
   ]
  },
  {
   "cell_type": "markdown",
   "metadata": {
    "colab_type": "text",
    "id": "jwMOmKb3AdBY"
   },
   "source": [
    "### Adding the output layer"
   ]
  },
  {
   "cell_type": "code",
   "execution_count": 31,
   "metadata": {
    "colab": {},
    "colab_type": "code",
    "id": "YFATpzsUAkLL"
   },
   "outputs": [],
   "source": [
    "ann.add(tf.keras.layers.Dense(units=1))"
   ]
  },
  {
   "cell_type": "markdown",
   "metadata": {
    "colab_type": "text",
    "id": "fq7e4fF6A1yy"
   },
   "source": [
    "## Part 3 - Training the ANN"
   ]
  },
  {
   "cell_type": "markdown",
   "metadata": {
    "colab_type": "text",
    "id": "qDeylAs2An25"
   },
   "source": [
    "### Compiling the ANN"
   ]
  },
  {
   "cell_type": "code",
   "execution_count": 32,
   "metadata": {
    "colab": {},
    "colab_type": "code",
    "id": "pesgbWlCAtB4"
   },
   "outputs": [],
   "source": [
    "ann.compile(optimizer = 'adam', loss = 'mean_squared_error',metrics=[\"accuracy\"])"
   ]
  },
  {
   "cell_type": "markdown",
   "metadata": {
    "colab_type": "text",
    "id": "YjVuiybYOo7r"
   },
   "source": [
    "### Training the ANN model on the Training set"
   ]
  },
  {
   "cell_type": "code",
   "execution_count": 33,
   "metadata": {
    "colab": {
     "base_uri": "https://localhost:8080/",
     "height": 1000
    },
    "colab_type": "code",
    "id": "c_vV-tiiA5zn",
    "outputId": "4a2b6ee6-ed75-4698-9069-b250e613803f"
   },
   "outputs": [
    {
     "name": "stdout",
     "output_type": "stream",
     "text": [
      "Epoch 1/100\n",
      "240/240 [==============================] - 1s 2ms/step - loss: 2919.1870 - accuracy: 0.0000e+00\n",
      "Epoch 2/100\n",
      "240/240 [==============================] - 0s 1ms/step - loss: 448.8600 - accuracy: 0.0000e+00\n",
      "Epoch 3/100\n",
      "240/240 [==============================] - 0s 2ms/step - loss: 274.9746 - accuracy: 0.0000e+00\n",
      "Epoch 4/100\n",
      "240/240 [==============================] - 0s 2ms/step - loss: 182.5896 - accuracy: 0.0000e+00\n",
      "Epoch 5/100\n",
      "240/240 [==============================] - 0s 2ms/step - loss: 133.1051 - accuracy: 0.0000e+00\n",
      "Epoch 6/100\n",
      "240/240 [==============================] - 0s 1ms/step - loss: 100.5804 - accuracy: 0.0000e+00\n",
      "Epoch 7/100\n",
      "240/240 [==============================] - 0s 1ms/step - loss: 78.4018 - accuracy: 0.0000e+00\n",
      "Epoch 8/100\n",
      "240/240 [==============================] - 0s 2ms/step - loss: 64.0707 - accuracy: 0.0000e+00\n",
      "Epoch 9/100\n",
      "240/240 [==============================] - 0s 2ms/step - loss: 54.7574 - accuracy: 0.0000e+00\n",
      "Epoch 10/100\n",
      "240/240 [==============================] - 0s 2ms/step - loss: 48.2890 - accuracy: 0.0000e+00\n",
      "Epoch 11/100\n",
      "240/240 [==============================] - 0s 1ms/step - loss: 44.3937 - accuracy: 0.0000e+00\n",
      "Epoch 12/100\n",
      "240/240 [==============================] - 0s 1ms/step - loss: 41.6660 - accuracy: 0.0000e+00\n",
      "Epoch 13/100\n",
      "240/240 [==============================] - 0s 2ms/step - loss: 38.7949 - accuracy: 0.0000e+00\n",
      "Epoch 14/100\n",
      "240/240 [==============================] - 0s 2ms/step - loss: 37.0855 - accuracy: 0.0000e+00\n",
      "Epoch 15/100\n",
      "240/240 [==============================] - 0s 1ms/step - loss: 35.4930 - accuracy: 0.0000e+00\n",
      "Epoch 16/100\n",
      "240/240 [==============================] - 0s 2ms/step - loss: 34.8332 - accuracy: 0.0000e+00\n",
      "Epoch 17/100\n",
      "240/240 [==============================] - 0s 2ms/step - loss: 33.5872 - accuracy: 0.0000e+00\n",
      "Epoch 18/100\n",
      "240/240 [==============================] - 0s 2ms/step - loss: 32.0919 - accuracy: 0.0000e+00\n",
      "Epoch 19/100\n",
      "240/240 [==============================] - 0s 1ms/step - loss: 31.0924 - accuracy: 0.0000e+00\n",
      "Epoch 20/100\n",
      "240/240 [==============================] - 0s 2ms/step - loss: 30.7111 - accuracy: 0.0000e+00\n",
      "Epoch 21/100\n",
      "240/240 [==============================] - 0s 2ms/step - loss: 29.6500 - accuracy: 0.0000e+00\n",
      "Epoch 22/100\n",
      "240/240 [==============================] - 0s 2ms/step - loss: 29.0803 - accuracy: 0.0000e+00\n",
      "Epoch 23/100\n",
      "240/240 [==============================] - 0s 2ms/step - loss: 28.9524 - accuracy: 0.0000e+00\n",
      "Epoch 24/100\n",
      "240/240 [==============================] - 0s 2ms/step - loss: 28.1305 - accuracy: 0.0000e+00\n",
      "Epoch 25/100\n",
      "240/240 [==============================] - 0s 1ms/step - loss: 28.6930 - accuracy: 0.0000e+00\n",
      "Epoch 26/100\n",
      "240/240 [==============================] - 0s 1ms/step - loss: 28.0718 - accuracy: 0.0000e+00\n",
      "Epoch 27/100\n",
      "240/240 [==============================] - 0s 2ms/step - loss: 27.7340 - accuracy: 0.0000e+00\n",
      "Epoch 28/100\n",
      "240/240 [==============================] - 0s 2ms/step - loss: 27.9359 - accuracy: 0.0000e+00\n",
      "Epoch 29/100\n",
      "240/240 [==============================] - 0s 2ms/step - loss: 28.9030 - accuracy: 0.0000e+00\n",
      "Epoch 30/100\n",
      "240/240 [==============================] - 0s 2ms/step - loss: 28.0409 - accuracy: 0.0000e+00\n",
      "Epoch 31/100\n",
      "240/240 [==============================] - 0s 2ms/step - loss: 27.6898 - accuracy: 0.0000e+00\n",
      "Epoch 32/100\n",
      "240/240 [==============================] - 0s 2ms/step - loss: 27.4847 - accuracy: 0.0000e+00\n",
      "Epoch 33/100\n",
      "240/240 [==============================] - 0s 2ms/step - loss: 26.9455 - accuracy: 0.0000e+00\n",
      "Epoch 34/100\n",
      "240/240 [==============================] - 0s 2ms/step - loss: 28.2926 - accuracy: 0.0000e+00\n",
      "Epoch 35/100\n",
      "240/240 [==============================] - 0s 2ms/step - loss: 27.3254 - accuracy: 0.0000e+00\n",
      "Epoch 36/100\n",
      "240/240 [==============================] - 0s 1ms/step - loss: 27.2872 - accuracy: 0.0000e+00\n",
      "Epoch 37/100\n",
      "240/240 [==============================] - 0s 1ms/step - loss: 27.6923 - accuracy: 0.0000e+00\n",
      "Epoch 38/100\n",
      "240/240 [==============================] - 0s 2ms/step - loss: 27.6329 - accuracy: 0.0000e+00\n",
      "Epoch 39/100\n",
      "240/240 [==============================] - ETA: 0s - loss: 27.3400 - accuracy: 0.0000e+0 - 0s 2ms/step - loss: 27.2233 - accuracy: 0.0000e+00\n",
      "Epoch 40/100\n",
      "240/240 [==============================] - 0s 2ms/step - loss: 27.4279 - accuracy: 0.0000e+00\n",
      "Epoch 41/100\n",
      "240/240 [==============================] - 0s 2ms/step - loss: 27.2691 - accuracy: 0.0000e+00\n",
      "Epoch 42/100\n",
      "240/240 [==============================] - 0s 2ms/step - loss: 27.5909 - accuracy: 0.0000e+00\n",
      "Epoch 43/100\n",
      "240/240 [==============================] - 0s 2ms/step - loss: 27.8302 - accuracy: 0.0000e+00\n",
      "Epoch 44/100\n",
      "240/240 [==============================] - 0s 2ms/step - loss: 27.4981 - accuracy: 0.0000e+00\n",
      "Epoch 45/100\n",
      "240/240 [==============================] - 0s 1ms/step - loss: 27.9075 - accuracy: 0.0000e+00\n",
      "Epoch 46/100\n",
      "240/240 [==============================] - 0s 2ms/step - loss: 27.2245 - accuracy: 0.0000e+00\n",
      "Epoch 47/100\n",
      "240/240 [==============================] - 0s 1ms/step - loss: 26.7623 - accuracy: 0.0000e+00\n",
      "Epoch 48/100\n",
      "240/240 [==============================] - 0s 1ms/step - loss: 27.7072 - accuracy: 0.0000e+00\n",
      "Epoch 49/100\n",
      "240/240 [==============================] - 0s 2ms/step - loss: 26.7284 - accuracy: 0.0000e+00\n",
      "Epoch 50/100\n",
      "240/240 [==============================] - 0s 2ms/step - loss: 28.1909 - accuracy: 0.0000e+00\n",
      "Epoch 51/100\n",
      "240/240 [==============================] - 0s 2ms/step - loss: 27.5993 - accuracy: 0.0000e+00\n",
      "Epoch 52/100\n",
      "240/240 [==============================] - 0s 1ms/step - loss: 27.5582 - accuracy: 0.0000e+00\n",
      "Epoch 53/100\n",
      "240/240 [==============================] - 0s 2ms/step - loss: 27.4777 - accuracy: 0.0000e+00\n",
      "Epoch 54/100\n",
      "240/240 [==============================] - 0s 2ms/step - loss: 28.1523 - accuracy: 0.0000e+00\n",
      "Epoch 55/100\n",
      "240/240 [==============================] - 0s 2ms/step - loss: 28.7213 - accuracy: 0.0000e+00\n",
      "Epoch 56/100\n",
      "240/240 [==============================] - 0s 1ms/step - loss: 27.0639 - accuracy: 0.0000e+00\n",
      "Epoch 57/100\n",
      "240/240 [==============================] - 0s 2ms/step - loss: 28.3365 - accuracy: 0.0000e+00\n",
      "Epoch 58/100\n",
      "240/240 [==============================] - 0s 2ms/step - loss: 27.4417 - accuracy: 0.0000e+00\n",
      "Epoch 59/100\n",
      "240/240 [==============================] - 0s 2ms/step - loss: 28.8301 - accuracy: 0.0000e+00\n",
      "Epoch 60/100\n",
      "240/240 [==============================] - 0s 2ms/step - loss: 28.2038 - accuracy: 0.0000e+00\n",
      "Epoch 61/100\n",
      "240/240 [==============================] - 0s 2ms/step - loss: 26.7688 - accuracy: 0.0000e+00\n",
      "Epoch 62/100\n",
      "240/240 [==============================] - 0s 2ms/step - loss: 26.7959 - accuracy: 0.0000e+00\n",
      "Epoch 63/100\n",
      "240/240 [==============================] - 0s 2ms/step - loss: 26.9659 - accuracy: 0.0000e+00\n",
      "Epoch 64/100\n",
      "240/240 [==============================] - 0s 1ms/step - loss: 27.6779 - accuracy: 0.0000e+00\n",
      "Epoch 65/100\n",
      "240/240 [==============================] - 0s 2ms/step - loss: 26.9988 - accuracy: 0.0000e+00\n",
      "Epoch 66/100\n",
      "240/240 [==============================] - 0s 2ms/step - loss: 27.1758 - accuracy: 0.0000e+00\n",
      "Epoch 67/100\n",
      "240/240 [==============================] - 0s 1ms/step - loss: 27.7363 - accuracy: 0.0000e+00\n",
      "Epoch 68/100\n",
      "240/240 [==============================] - 0s 2ms/step - loss: 28.2247 - accuracy: 0.0000e+00\n",
      "Epoch 69/100\n",
      "240/240 [==============================] - 0s 1ms/step - loss: 27.2908 - accuracy: 0.0000e+00\n",
      "Epoch 70/100\n",
      "240/240 [==============================] - 0s 1ms/step - loss: 27.6229 - accuracy: 0.0000e+00\n",
      "Epoch 71/100\n",
      "240/240 [==============================] - 0s 1ms/step - loss: 26.7523 - accuracy: 0.0000e+00\n",
      "Epoch 72/100\n",
      "240/240 [==============================] - 0s 2ms/step - loss: 27.3482 - accuracy: 0.0000e+00\n",
      "Epoch 73/100\n",
      "240/240 [==============================] - 0s 2ms/step - loss: 27.5890 - accuracy: 0.0000e+00\n",
      "Epoch 74/100\n",
      "240/240 [==============================] - 0s 1ms/step - loss: 27.0304 - accuracy: 0.0000e+00\n",
      "Epoch 75/100\n",
      "240/240 [==============================] - 0s 1ms/step - loss: 28.0805 - accuracy: 0.0000e+00\n",
      "Epoch 76/100\n",
      "240/240 [==============================] - 0s 2ms/step - loss: 27.5472 - accuracy: 0.0000e+00\n",
      "Epoch 77/100\n"
     ]
    },
    {
     "name": "stdout",
     "output_type": "stream",
     "text": [
      "240/240 [==============================] - 0s 2ms/step - loss: 27.6480 - accuracy: 0.0000e+00\n",
      "Epoch 78/100\n",
      "240/240 [==============================] - 0s 1ms/step - loss: 27.7693 - accuracy: 0.0000e+00\n",
      "Epoch 79/100\n",
      "240/240 [==============================] - 0s 2ms/step - loss: 27.2788 - accuracy: 0.0000e+00\n",
      "Epoch 80/100\n",
      "240/240 [==============================] - 0s 2ms/step - loss: 26.9627 - accuracy: 0.0000e+00\n",
      "Epoch 81/100\n",
      "240/240 [==============================] - 0s 2ms/step - loss: 26.8492 - accuracy: 0.0000e+00\n",
      "Epoch 82/100\n",
      "240/240 [==============================] - 0s 2ms/step - loss: 27.3488 - accuracy: 0.0000e+00\n",
      "Epoch 83/100\n",
      "240/240 [==============================] - 0s 1ms/step - loss: 27.4086 - accuracy: 0.0000e+00\n",
      "Epoch 84/100\n",
      "240/240 [==============================] - 0s 1ms/step - loss: 28.7379 - accuracy: 0.0000e+00\n",
      "Epoch 85/100\n",
      "240/240 [==============================] - 0s 1ms/step - loss: 28.1332 - accuracy: 0.0000e+00\n",
      "Epoch 86/100\n",
      "240/240 [==============================] - 0s 1ms/step - loss: 27.3597 - accuracy: 0.0000e+00\n",
      "Epoch 87/100\n",
      "240/240 [==============================] - 0s 1ms/step - loss: 27.1032 - accuracy: 0.0000e+00\n",
      "Epoch 88/100\n",
      "240/240 [==============================] - 0s 1ms/step - loss: 27.6461 - accuracy: 0.0000e+00\n",
      "Epoch 89/100\n",
      "240/240 [==============================] - 0s 2ms/step - loss: 27.3772 - accuracy: 0.0000e+00\n",
      "Epoch 90/100\n",
      "240/240 [==============================] - 0s 1ms/step - loss: 27.8127 - accuracy: 0.0000e+00\n",
      "Epoch 91/100\n",
      "240/240 [==============================] - 0s 1ms/step - loss: 27.1401 - accuracy: 0.0000e+00\n",
      "Epoch 92/100\n",
      "240/240 [==============================] - 0s 1ms/step - loss: 27.7849 - accuracy: 0.0000e+00\n",
      "Epoch 93/100\n",
      "240/240 [==============================] - 0s 2ms/step - loss: 27.7725 - accuracy: 0.0000e+00\n",
      "Epoch 94/100\n",
      "240/240 [==============================] - 0s 2ms/step - loss: 27.8826 - accuracy: 0.0000e+00\n",
      "Epoch 95/100\n",
      "240/240 [==============================] - 0s 2ms/step - loss: 27.6618 - accuracy: 0.0000e+00\n",
      "Epoch 96/100\n",
      "240/240 [==============================] - 0s 2ms/step - loss: 27.1932 - accuracy: 0.0000e+00\n",
      "Epoch 97/100\n",
      "240/240 [==============================] - 0s 2ms/step - loss: 27.2994 - accuracy: 0.0000e+00\n",
      "Epoch 98/100\n",
      "240/240 [==============================] - 0s 2ms/step - loss: 27.3832 - accuracy: 0.0000e+00\n",
      "Epoch 99/100\n",
      "240/240 [==============================] - 0s 2ms/step - loss: 27.7329 - accuracy: 0.0000e+00\n",
      "Epoch 100/100\n",
      "240/240 [==============================] - 0s 2ms/step - loss: 26.8442 - accuracy: 0.0000e+00\n"
     ]
    },
    {
     "data": {
      "text/plain": [
       "<tensorflow.python.keras.callbacks.History at 0x1ef984f8040>"
      ]
     },
     "execution_count": 33,
     "metadata": {},
     "output_type": "execute_result"
    }
   ],
   "source": [
    "ann.fit(X_train, y_train, batch_size = 32, epochs = 100)"
   ]
  },
  {
   "cell_type": "markdown",
   "metadata": {
    "colab_type": "text",
    "id": "0H0zKKNEBLD5"
   },
   "source": [
    "### Predicting the results of the Test set"
   ]
  },
  {
   "cell_type": "code",
   "execution_count": 36,
   "metadata": {
    "colab": {
     "base_uri": "https://localhost:8080/",
     "height": 134
    },
    "colab_type": "code",
    "id": "IA0yApEmBG1X",
    "outputId": "cb981e1f-9204-4a2a-fece-9d66a6919189"
   },
   "outputs": [
    {
     "name": "stdout",
     "output_type": "stream",
     "text": [
      "[[431.07 431.23]\n",
      " [462.29 460.01]\n",
      " [465.82 461.14]\n",
      " ...\n",
      " [473.08 473.26]\n",
      " [439.72 438.  ]\n",
      " [459.04 463.28]]\n"
     ]
    },
    {
     "data": {
      "text/plain": [
       "0.9120211351521805"
      ]
     },
     "execution_count": 36,
     "metadata": {},
     "output_type": "execute_result"
    }
   ],
   "source": [
    "y_pred = ann.predict(X_test)\n",
    "np.set_printoptions(precision=2)\n",
    "print(np.concatenate((y_pred.reshape(len(y_pred),1), y_test.reshape(len(y_test),1)),1))\n",
    "\n",
    "from sklearn.metrics import r2_score\n",
    "r2_score(y_pred,y_test)\n"
   ]
  },
  {
   "cell_type": "code",
   "execution_count": null,
   "metadata": {},
   "outputs": [],
   "source": []
  }
 ],
 "metadata": {
  "colab": {
   "collapsed_sections": [],
   "name": "Artificial Neural Network",
   "provenance": [],
   "toc_visible": true
  },
  "interpreter": {
   "hash": "2647ea34e536f865ab67ff9ddee7fd78773d956cec0cab53c79b32cd10da5d83"
  },
  "kernelspec": {
   "display_name": "Python 3",
   "language": "python",
   "name": "python3"
  },
  "language_info": {
   "codemirror_mode": {
    "name": "ipython",
    "version": 3
   },
   "file_extension": ".py",
   "mimetype": "text/x-python",
   "name": "python",
   "nbconvert_exporter": "python",
   "pygments_lexer": "ipython3",
   "version": "3.9.4"
  }
 },
 "nbformat": 4,
 "nbformat_minor": 2
}
